{
 "cells": [
  {
   "cell_type": "markdown",
   "id": "97eaee08",
   "metadata": {},
   "source": [
    "# Sample code for a live video feed #"
   ]
  },
  {
   "cell_type": "markdown",
   "id": "ec07dda4",
   "metadata": {},
   "source": [
    "The following cell will import Numpy and OpenCV, the basic building blocks for many of the functionalities you will need. These are the same packages used in previous labs."
   ]
  },
  {
   "cell_type": "code",
   "execution_count": 1,
   "id": "0889300e",
   "metadata": {},
   "outputs": [],
   "source": [
    "import numpy as np\n",
    "import cv2"
   ]
  },
  {
   "cell_type": "markdown",
   "id": "f585d52c",
   "metadata": {},
   "source": [
    "Set your camera number. This may open your webcam instead of the CrazyFlie camera! If so, try a different small, positive integer, e.g. 1, 2, 3 (sometimes even -1 works depending on your computer)."
   ]
  },
  {
   "cell_type": "code",
   "execution_count": 2,
   "id": "05833fe8",
   "metadata": {},
   "outputs": [],
   "source": [
    "camera = 1"
   ]
  },
  {
   "cell_type": "markdown",
   "id": "75eb421e",
   "metadata": {},
   "source": [
    "The following cell uses OpenCV to open a video device on your computer (the video player will open in a new window). This is essentially a simplified version of what you used in Lab8. In Lab8, a more sophisticated sample was provided which opened a video player and performed object detection on every frame. This utilized a neural network which was pre-trained on the Coco dataset. You can recreate that here, if you'd like."
   ]
  },
  {
   "cell_type": "code",
   "execution_count": 1,
   "id": "250a08f7",
   "metadata": {},
   "outputs": [
    {
     "ename": "NameError",
     "evalue": "name 'cv2' is not defined",
     "output_type": "error",
     "traceback": [
      "\u001b[0;31m---------------------------------------------------------------------------\u001b[0m",
      "\u001b[0;31mNameError\u001b[0m                                 Traceback (most recent call last)",
      "\u001b[1;32m/Users/piercemaloney/Desktop/MAE 345/RoboticsFinalProject/sample-camera.ipynb Cell 7\u001b[0m line \u001b[0;36m1\n\u001b[0;32m----> <a href='vscode-notebook-cell:/Users/piercemaloney/Desktop/MAE%20345/RoboticsFinalProject/sample-camera.ipynb#W6sZmlsZQ%3D%3D?line=0'>1</a>\u001b[0m cap \u001b[39m=\u001b[39m cv2\u001b[39m.\u001b[39mVideoCapture(camera)\n\u001b[1;32m      <a href='vscode-notebook-cell:/Users/piercemaloney/Desktop/MAE%20345/RoboticsFinalProject/sample-camera.ipynb#W6sZmlsZQ%3D%3D?line=2'>3</a>\u001b[0m frames \u001b[39m=\u001b[39m []\n\u001b[1;32m      <a href='vscode-notebook-cell:/Users/piercemaloney/Desktop/MAE%20345/RoboticsFinalProject/sample-camera.ipynb#W6sZmlsZQ%3D%3D?line=4'>5</a>\u001b[0m \u001b[39mwhile\u001b[39;00m(\u001b[39mTrue\u001b[39;00m):\n\u001b[1;32m      <a href='vscode-notebook-cell:/Users/piercemaloney/Desktop/MAE%20345/RoboticsFinalProject/sample-camera.ipynb#W6sZmlsZQ%3D%3D?line=5'>6</a>\u001b[0m     \u001b[39m# Capture frame-by-frame\u001b[39;00m\n",
      "\u001b[0;31mNameError\u001b[0m: name 'cv2' is not defined"
     ]
    }
   ],
   "source": [
    "cap = cv2.VideoCapture(camera)\n",
    "\n",
    "frames = []\n",
    "\n",
    "while(True):\n",
    "    # Capture frame-by-frame\n",
    "    ret, frame = cap.read()\n",
    "\n",
    "    frames.append(frame)\n",
    "\n",
    "    if len(frames) >= 60:\n",
    "        print('COMPUTING')\n",
    "        # Compute the median frame\n",
    "        frames = frames[10:]\n",
    "        frames.sort(key=lambda x: np.count_nonzero(x))\n",
    "        frames = frames[10:40]\n",
    "        frame = np.median(frames, axis=0).astype(dtype=np.uint8)\n",
    "\n",
    "        # frame = height x width x channels, uint8\n",
    "\n",
    "        # These define the upper and lower HSV for the blue obstacles.\n",
    "        # Tuning of these values will vary depending on the camera.\n",
    "        lb1 = (100, 150, 50)\n",
    "        ub1 = (140, 255, 255)\n",
    "\n",
    "        # Perform contour detection on the input frame.\n",
    "        hsv1 = cv2.cvtColor(frame, cv2.COLOR_BGR2HSV)\n",
    "\n",
    "        # Compute mask of blue obstacles\n",
    "        mask = cv2.inRange(hsv1, lb1, ub1)\n",
    "\n",
    "        mask = mask[frame.shape[0]//2-50:frame.shape[0]//2+50,:] # crop\n",
    "\n",
    "        print(np.count_nonzero(mask))\n",
    "\n",
    "        # Display the resulting frame\n",
    "        cv2.imshow('frame', mask)\n",
    "\n",
    "        frames = []\n",
    "\n",
    "    # Hit q to quit.\n",
    "    if cv2.waitKey(1) & 0xFF == ord('q'):\n",
    "        break\n",
    "\n",
    "# Release the capture\n",
    "cap.release()\n",
    "cv2.destroyAllWindows()"
   ]
  },
  {
   "cell_type": "code",
   "execution_count": null,
   "id": "fc35f8c4",
   "metadata": {},
   "outputs": [],
   "source": []
  }
 ],
 "metadata": {
  "kernelspec": {
   "display_name": "Python 3 (ipykernel)",
   "language": "python",
   "name": "python3"
  },
  "language_info": {
   "codemirror_mode": {
    "name": "ipython",
    "version": 3
   },
   "file_extension": ".py",
   "mimetype": "text/x-python",
   "name": "python",
   "nbconvert_exporter": "python",
   "pygments_lexer": "ipython3",
   "version": "3.8.18"
  }
 },
 "nbformat": 4,
 "nbformat_minor": 5
}
