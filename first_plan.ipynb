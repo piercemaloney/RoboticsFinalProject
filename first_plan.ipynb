{
 "cells": [
  {
   "cell_type": "markdown",
   "metadata": {},
   "source": [
    "### Final Project Approach\n",
    "\n",
    "Create a library of short moves: W, NW, N, NE, E\n",
    "\n",
    "Create pathfinding alg that operates within box (100 in. long, 90 in wide from net to net) and the five short moves\n",
    "\n",
    "Obstacle detection + belief map:"
   ]
  },
  {
   "cell_type": "code",
   "execution_count": 1,
   "metadata": {},
   "outputs": [],
   "source": [
    "# Code adapted from: https://github.com/bitcraze/crazyflie-lib-python/blob/master/examples/autonomousSequence.py\n",
    "\n",
    "import time\n",
    "import numpy as np\n",
    "import cv2\n",
    "import matplotlib.pyplot as plt\n",
    "\n",
    "# CrazyFlie imports:\n",
    "\n",
    "import cflib.crtp\n",
    "from cflib.crazyflie import Crazyflie\n",
    "from cflib.crazyflie.log import LogConfig\n",
    "from cflib.crazyflie.syncCrazyflie import SyncCrazyflie\n",
    "from cflib.crazyflie.syncLogger import SyncLogger\n",
    "from cflib.positioning.position_hl_commander import PositionHlCommander"
   ]
  },
  {
   "cell_type": "markdown",
   "metadata": {},
   "source": [
    "### k means for obstacle detection"
   ]
  },
  {
   "cell_type": "code",
   "execution_count": 2,
   "metadata": {},
   "outputs": [],
   "source": [
    "from sklearn.cluster import KMeans\n",
    "# NOTE: This cell breaking? run:\n",
    "# pip install scikit-learn\n",
    "\n",
    "def perform_k_means_clustering(coords, k):\n",
    "    kmeans = KMeans(n_clusters=k, random_state=0, n_init=10).fit(coords)\n",
    "    cluster_centers = kmeans.cluster_centers_\n",
    "    labels = kmeans.labels_\n",
    "    cluster_sizes = np.bincount(labels)\n",
    "    return cluster_centers, cluster_sizes\n"
   ]
  },
  {
   "cell_type": "markdown",
   "metadata": {},
   "source": [
    "### Determine direction of least obstacles"
   ]
  },
  {
   "cell_type": "code",
   "execution_count": 3,
   "metadata": {},
   "outputs": [],
   "source": [
    "\n",
    "# Note: This does not account for drone's position in space\n",
    "def which_way(frame_width, centers, sizes):\n",
    "    # Step 1: Divide the field of view\n",
    "    section_width = frame_width / 3\n",
    "\n",
    "    # Step 2: Assign clusters to sections\n",
    "    sections = {'left': [], 'forward': [], 'right': []}\n",
    "    for center, size in zip(centers, sizes):\n",
    "        if center[0] < section_width:\n",
    "            sections['left'].append(size)\n",
    "        elif center[0] < 2 * section_width:\n",
    "            sections['forward'].append(size)\n",
    "        else:\n",
    "            sections['right'].append(size)\n",
    "\n",
    "    # Step 3: Calculate obstacle density\n",
    "    densities = {direction: sum(sizes) / section_width for direction, sizes in sections.items()}\n",
    "\n",
    "    # Step 4: Choose direction\n",
    "    return min(densities, key=densities.get)"
   ]
  },
  {
   "cell_type": "code",
   "execution_count": 4,
   "metadata": {},
   "outputs": [],
   "source": [
    "group_number = 16\n",
    "\n",
    "# Possibly try 0, 1, 2 ...\n",
    "camera = 0"
   ]
  },
  {
   "cell_type": "code",
   "execution_count": 5,
   "metadata": {},
   "outputs": [],
   "source": [
    "%matplotlib notebook"
   ]
  },
  {
   "cell_type": "code",
   "execution_count": 6,
   "metadata": {},
   "outputs": [],
   "source": [
    "# states:\n",
    "SCANNING = 0\n",
    "MOVING = 1"
   ]
  },
  {
   "cell_type": "code",
   "execution_count": 2,
   "metadata": {
    "scrolled": false
   },
   "outputs": [
    {
     "ename": "NameError",
     "evalue": "name 'cv2' is not defined",
     "output_type": "error",
     "traceback": [
      "\u001b[0;31m---------------------------------------------------------------------------\u001b[0m",
      "\u001b[0;31mNameError\u001b[0m                                 Traceback (most recent call last)",
      "\u001b[1;32m/Users/piercemaloney/Desktop/MAE 345/RoboticsFinalProject/first_plan.ipynb Cell 10\u001b[0m line \u001b[0;36m1\n\u001b[0;32m----> <a href='vscode-notebook-cell:/Users/piercemaloney/Desktop/MAE%20345/RoboticsFinalProject/first_plan.ipynb#X52sZmlsZQ%3D%3D?line=0'>1</a>\u001b[0m cap \u001b[39m=\u001b[39m cv2\u001b[39m.\u001b[39mVideoCapture(camera)\n\u001b[1;32m      <a href='vscode-notebook-cell:/Users/piercemaloney/Desktop/MAE%20345/RoboticsFinalProject/first_plan.ipynb#X52sZmlsZQ%3D%3D?line=2'>3</a>\u001b[0m state \u001b[39m=\u001b[39m SCANNING\n\u001b[1;32m      <a href='vscode-notebook-cell:/Users/piercemaloney/Desktop/MAE%20345/RoboticsFinalProject/first_plan.ipynb#X52sZmlsZQ%3D%3D?line=4'>5</a>\u001b[0m frames \u001b[39m=\u001b[39m []\n",
      "\u001b[0;31mNameError\u001b[0m: name 'cv2' is not defined"
     ]
    }
   ],
   "source": [
    "cap = cv2.VideoCapture(camera)\n",
    "\n",
    "state = SCANNING\n",
    "\n",
    "frames = []\n",
    "\n",
    "fig, ax = plt.subplots()\n",
    "while(True):\n",
    "    # Capture frame-by-frame\n",
    "    ret, frame = cap.read()\n",
    "\n",
    "    if state == SCANNING:\n",
    "        frames.append(frame)\n",
    "\n",
    "        # plot a piece of text that just says \"Scanning...\"\n",
    "        ax.text(0.5, 0.5, 'Scanning...', horizontalalignment='center', verticalalignment='center', fontsize=20)\n",
    "        fig.canvas.draw()\n",
    "\n",
    "        if len(frames) >= 10:\n",
    "            # Compute the median frame\n",
    "            median_frame = np.median(frames, axis=0).astype(dtype=np.uint8)\n",
    "            frame = median_frame\n",
    "\n",
    "            # These define the upper and lower HSV for the red obstacles.\n",
    "            # Note that the red color wraps around 180, so there are two intervals.\n",
    "            # Tuning of these values will vary depending on the camera.\n",
    "            lb1 = (145, 35, 75)\n",
    "            ub1 = (180, 255, 255)\n",
    "            lb2 = (0, 75, 75)\n",
    "            ub2 = (20, 255, 255)\n",
    "\n",
    "            # Perform contour detection on the input frame.\n",
    "            hsv1 = cv2.cvtColor(frame, cv2.COLOR_BGR2HSV)\n",
    "            hsv2 = cv2.cvtColor(frame, cv2.COLOR_BGR2HSV)\n",
    "\n",
    "            # Compute mask of red obstacles in either color range.\n",
    "            mask1 = cv2.inRange(hsv1, lb1, ub1)\n",
    "            mask2 = cv2.inRange(hsv2, lb2, ub2)\n",
    "            # Combine the masks.\n",
    "            mask = cv2.bitwise_or(mask1, mask2)\n",
    "            mask = mask[frame.shape[0]//2-100:frame.shape[0]//2+0,:] # crop to 200 tall from center\n",
    "\n",
    "            # count number of 1s in mask\n",
    "            num_red_pixels = np.count_nonzero(mask)\n",
    "\n",
    "            # Create a list of tuples that are the height, width of each 1 in the mask\n",
    "            # print('starting')\n",
    "            # NOTE: this swaps the j, i coordinates (bc frame is height x width) so we get proper x, y. But note, y is still inverted.\n",
    "            ones_coords = [[j, i] for i in range(mask.shape[0]) for j in range(mask.shape[1]) if mask[i][j] == 255]\n",
    "            if len(ones_coords) == 0:\n",
    "                continue\n",
    "\n",
    "            # print(len(ones_coords))\n",
    "            # print('done')\n",
    "            # Plot the points\n",
    "            ax.clear()\n",
    "            ax.set_xlim([0, mask.shape[1]])\n",
    "            ax.set_ylim([0, mask.shape[0]])\n",
    "            #invert y axis\n",
    "            ax.invert_yaxis()\n",
    "            ax.set_autoscale_on(False)\n",
    "\n",
    "            ax.scatter(*zip(*ones_coords))\n",
    "            \n",
    "            # Plot the k means cluster center as a big red point\n",
    "            centers, sizes = perform_k_means_clustering(ones_coords, k=4)\n",
    "            normalized_sizes = 50 + (sizes - min(sizes)) / (max(sizes) - min(sizes)) * 450\n",
    "            ax.scatter(*zip(*centers), color='red', s=normalized_sizes)\n",
    "\n",
    "            # Plot the direction\n",
    "            direction = which_way(mask.shape[1], centers, sizes)\n",
    "            # Map direction to a numerical value\n",
    "            direction_map = {'left': 1/6, 'forward': 1/2, 'right': 5/6}\n",
    "            direction_value = direction_map.get(direction, 0)\n",
    "\n",
    "            # Plot a green vertical line over the direction on the graph\n",
    "            ax.axvline(x=direction_value * mask.shape[1], color='green', linewidth=5)\n",
    "\n",
    "            fig.canvas.draw()\n",
    "\n",
    "            # Switch to scanning mode\n",
    "            state = MOVING\n",
    "            frames = []\n",
    "\n",
    "    elif state == MOVING:\n",
    "        ax.text(0.5, 0.5, 'Moving...', horizontalalignment='center', verticalalignment='center', fontsize=20)\n",
    "        fig.canvas.draw()\n",
    "        \n",
    "        # Perform moving operations\n",
    "        time.sleep(2)\n",
    "        \n",
    "        # Switch to scanning mode\n",
    "        state = SCANNING\n",
    "        ax.clear()\n",
    "\n",
    "    # Hit q to quit.\n",
    "    if cv2.waitKey(1) & 0xFF == ord('q'):\n",
    "        break\n",
    "\n",
    "# Release the capture\n",
    "cap.release()\n",
    "cv2.destroyAllWindows()"
   ]
  },
  {
   "cell_type": "code",
   "execution_count": null,
   "metadata": {},
   "outputs": [],
   "source": []
  },
  {
   "cell_type": "code",
   "execution_count": null,
   "metadata": {},
   "outputs": [],
   "source": []
  }
 ],
 "metadata": {
  "kernelspec": {
   "display_name": "Python 3 (ipykernel)",
   "language": "python",
   "name": "python3"
  },
  "language_info": {
   "codemirror_mode": {
    "name": "ipython",
    "version": 3
   },
   "file_extension": ".py",
   "mimetype": "text/x-python",
   "name": "python",
   "nbconvert_exporter": "python",
   "pygments_lexer": "ipython3",
   "version": "3.8.18"
  }
 },
 "nbformat": 4,
 "nbformat_minor": 2
}
